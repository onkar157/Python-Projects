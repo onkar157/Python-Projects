{
 "cells": [
  {
   "cell_type": "markdown",
   "id": "65bed5bb",
   "metadata": {},
   "source": [
    "### Project: Band name generator"
   ]
  },
  {
   "cell_type": "code",
   "execution_count": 2,
   "id": "8802f4a8",
   "metadata": {},
   "outputs": [
    {
     "name": "stdout",
     "output_type": "stream",
     "text": [
      "Hello, welcome to the band name generator !\n",
      "city u grew up in ?\n",
      "mumbai\n",
      "u r pet name ?\n",
      "tiger\n",
      "your band name could be mumbai tiger\n"
     ]
    }
   ],
   "source": [
    "print(\"Hello, welcome to the band name generator !\")\n",
    "street = input('city u grew up in ?\\n')\n",
    "pet = input('u r pet name ?\\n')\n",
    "\n",
    "print('your band name could be ' + street+ \" \" +pet)"
   ]
  },
  {
   "cell_type": "code",
   "execution_count": null,
   "id": "eaf73330",
   "metadata": {},
   "outputs": [],
   "source": []
  }
 ],
 "metadata": {
  "kernelspec": {
   "display_name": "Python 3 (ipykernel)",
   "language": "python",
   "name": "python3"
  },
  "language_info": {
   "codemirror_mode": {
    "name": "ipython",
    "version": 3
   },
   "file_extension": ".py",
   "mimetype": "text/x-python",
   "name": "python",
   "nbconvert_exporter": "python",
   "pygments_lexer": "ipython3",
   "version": "3.9.7"
  }
 },
 "nbformat": 4,
 "nbformat_minor": 5
}
