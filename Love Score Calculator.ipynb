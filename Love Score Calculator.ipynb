{
 "cells": [
  {
   "cell_type": "markdown",
   "id": "f2b0a196",
   "metadata": {},
   "source": [
    "### Love Score Calculator"
   ]
  },
  {
   "cell_type": "code",
   "execution_count": 3,
   "id": "d5afa0e9",
   "metadata": {},
   "outputs": [
    {
     "name": "stdout",
     "output_type": "stream",
     "text": [
      "welcome to the love calculator\n",
      "what is your name ?\n",
      "robert\n",
      "what is their name ?\n",
      "hina\n",
      "Your Love score is 42, you are alright together.\n"
     ]
    }
   ],
   "source": [
    "print(\"welcome to the love calculator\")\n",
    "name1 = input(\"what is your name ?\\n\")\n",
    "name2 = input(\"what is their name ?\\n\")\n",
    "\n",
    "combined_string = name1 + name2\n",
    "\n",
    "lower_case_string = combined_string.lower()\n",
    "\n",
    "t = lower_case_string.count(\"t\")\n",
    "r = lower_case_string.count(\"r\")\n",
    "u = lower_case_string.count(\"u\")\n",
    "e = lower_case_string.count(\"e\")\n",
    "\n",
    "true = t + r + u + e \n",
    "\n",
    "l = lower_case_string.count(\"l\")\n",
    "o = lower_case_string.count(\"o\")\n",
    "v = lower_case_string.count(\"v\")\n",
    "e = lower_case_string.count(\"e\")\n",
    "\n",
    "love = l + o + v + e\n",
    "\n",
    "love_score = int(str(true) + str(love))\n",
    "\n",
    "if (love_score <= 10) or (love_score >=90):\n",
    "    print(f\"Your Love score is {love_score}, you go together like mentos and coke.\")\n",
    "elif (love_score >=40) and (love_score <=50):\n",
    "    print(f\"Your Love score is {love_score}, you are alright together.\")\n",
    "else:\n",
    "        print(f\"Your Love score is {love_score}.\")"
   ]
  },
  {
   "cell_type": "code",
   "execution_count": null,
   "id": "e03a952a",
   "metadata": {},
   "outputs": [],
   "source": []
  }
 ],
 "metadata": {
  "kernelspec": {
   "display_name": "Python 3 (ipykernel)",
   "language": "python",
   "name": "python3"
  },
  "language_info": {
   "codemirror_mode": {
    "name": "ipython",
    "version": 3
   },
   "file_extension": ".py",
   "mimetype": "text/x-python",
   "name": "python",
   "nbconvert_exporter": "python",
   "pygments_lexer": "ipython3",
   "version": "3.9.7"
  }
 },
 "nbformat": 4,
 "nbformat_minor": 5
}
