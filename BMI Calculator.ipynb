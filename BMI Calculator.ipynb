{
 "cells": [
  {
   "cell_type": "markdown",
   "id": "b2fa8b62",
   "metadata": {},
   "source": [
    "### BMI Calculator"
   ]
  },
  {
   "cell_type": "code",
   "execution_count": 1,
   "id": "1be4c5c8",
   "metadata": {},
   "outputs": [
    {
     "name": "stdout",
     "output_type": "stream",
     "text": [
      "enter your height in m: 1.57\n",
      "enter your weight in kg: 61\n",
      "Your BMI is 25, you are slightly overweight. \n"
     ]
    }
   ],
   "source": [
    "height = float(input(\"enter your height in m: \"))\n",
    "weight = float(input(\"enter your weight in kg: \"))\n",
    "\n",
    "bmi = round(weight / height ** 2)\n",
    "\n",
    "if bmi < 18.5:\n",
    "    print(f\"Your BMI is {bmi}, you are underweight. \")\n",
    "elif bmi < 25:\n",
    "        print(f\"Your BMI is {bmi}, you have a normal weight. \")\n",
    "elif bmi < 30:\n",
    "            print(f\"Your BMI is {bmi}, you are slightly overweight. \")\n",
    "elif bmi < 35:\n",
    "                print(f\"Your BMi is {bmi}, you are obese\")\n",
    "else:\n",
    "    print(f\"Your BMI is {bmi}, you are clinically obese.\") "
   ]
  },
  {
   "cell_type": "code",
   "execution_count": null,
   "id": "3d7e18d8",
   "metadata": {},
   "outputs": [],
   "source": []
  }
 ],
 "metadata": {
  "kernelspec": {
   "display_name": "Python 3 (ipykernel)",
   "language": "python",
   "name": "python3"
  },
  "language_info": {
   "codemirror_mode": {
    "name": "ipython",
    "version": 3
   },
   "file_extension": ".py",
   "mimetype": "text/x-python",
   "name": "python",
   "nbconvert_exporter": "python",
   "pygments_lexer": "ipython3",
   "version": "3.9.7"
  }
 },
 "nbformat": 4,
 "nbformat_minor": 5
}
