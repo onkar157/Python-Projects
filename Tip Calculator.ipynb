{
 "cells": [
  {
   "cell_type": "markdown",
   "id": "42d4e839",
   "metadata": {},
   "source": [
    "### Project :- Tip Calculator"
   ]
  },
  {
   "cell_type": "code",
   "execution_count": 6,
   "id": "c8f275ea",
   "metadata": {},
   "outputs": [
    {
     "name": "stdout",
     "output_type": "stream",
     "text": [
      "welcome to the tip calculator !\n",
      "what was the total bill ? $150\n",
      "how much tip would you like to give ? 10,15, or 20 ? 12\n",
      "how many people to split the bill ? 5\n",
      "each person should pay: $33.60\n"
     ]
    }
   ],
   "source": [
    "print(\"welcome to the tip calculator !\")\n",
    "bill = float(input(\"what was the total bill ? $\"))\n",
    "tip = int(input(\"how much tip would you like to give ? 10,15, or 20 ? \"))\n",
    "people = int(input(\"how many people to split the bill ? \"))\n",
    "\n",
    "tip_as_percent = tip/100\n",
    "total_tip_amount = bill * tip_as_percent\n",
    "total_bill = bill + total_tip_amount\n",
    "\n",
    "bill_person = total_bill / people\n",
    "final_amount = round(bill_person,2)\n",
    "final_amount = \"{:.2f}\".format(bill_person)\n",
    "\n",
    "print(f\"each person should pay: ${final_amount}\")"
   ]
  },
  {
   "cell_type": "code",
   "execution_count": null,
   "id": "9022cfec",
   "metadata": {},
   "outputs": [],
   "source": []
  }
 ],
 "metadata": {
  "kernelspec": {
   "display_name": "Python 3 (ipykernel)",
   "language": "python",
   "name": "python3"
  },
  "language_info": {
   "codemirror_mode": {
    "name": "ipython",
    "version": 3
   },
   "file_extension": ".py",
   "mimetype": "text/x-python",
   "name": "python",
   "nbconvert_exporter": "python",
   "pygments_lexer": "ipython3",
   "version": "3.9.7"
  }
 },
 "nbformat": 4,
 "nbformat_minor": 5
}
