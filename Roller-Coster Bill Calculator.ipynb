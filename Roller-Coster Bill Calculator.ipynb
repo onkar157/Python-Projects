{
 "cells": [
  {
   "cell_type": "markdown",
   "id": "91d22395",
   "metadata": {},
   "source": [
    "### Rollercoster Bill Calculator"
   ]
  },
  {
   "cell_type": "code",
   "execution_count": 2,
   "id": "52e3154a",
   "metadata": {},
   "outputs": [
    {
     "name": "stdout",
     "output_type": "stream",
     "text": [
      "welcome to the rollercoster ! \n",
      "what is your height in cm ? 167\n",
      "you can ride the rollercoster ! \n",
      "what is your age ? 23\n",
      "please pay $12. \n",
      "Do you want a photo taken ? Y or N.y\n",
      "Your final bill is $12\n"
     ]
    }
   ],
   "source": [
    "print(\"welcome to the rollercoster ! \")\n",
    "height = int(input(\"what is your height in cm ? \"))\n",
    "bill = 0 \n",
    "\n",
    "if height >= 120:\n",
    "    print(\"you can ride the rollercoster ! \")\n",
    "    age = int(input(\"what is your age ? \"))\n",
    "    if age <12:\n",
    "        bill = 5\n",
    "        print(\"please pay $5.\")\n",
    "    elif age <=18:\n",
    "        bill = 7\n",
    "        print(\"please pay $7. \")\n",
    "    else:\n",
    "        bill = 12\n",
    "        print(\"please pay $12. \")\n",
    "    want_photo = input(\"Do you want a photo taken ? Y or N.\")\n",
    "    if want_photo == \"Y\":\n",
    "        bill += 3\n",
    "    print(f\"Your final bill is ${bill}\")    \n",
    "else:\n",
    "    print(\"sorry, you have to grow taller before you can ride.\")"
   ]
  },
  {
   "cell_type": "code",
   "execution_count": null,
   "id": "196aeff6",
   "metadata": {},
   "outputs": [],
   "source": []
  }
 ],
 "metadata": {
  "kernelspec": {
   "display_name": "Python 3 (ipykernel)",
   "language": "python",
   "name": "python3"
  },
  "language_info": {
   "codemirror_mode": {
    "name": "ipython",
    "version": 3
   },
   "file_extension": ".py",
   "mimetype": "text/x-python",
   "name": "python",
   "nbconvert_exporter": "python",
   "pygments_lexer": "ipython3",
   "version": "3.9.7"
  }
 },
 "nbformat": 4,
 "nbformat_minor": 5
}
