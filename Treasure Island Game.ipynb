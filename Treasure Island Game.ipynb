{
 "cells": [
  {
   "cell_type": "markdown",
   "id": "7f1099e9",
   "metadata": {},
   "source": [
    "### Project :- Treasure Island Game "
   ]
  },
  {
   "cell_type": "code",
   "execution_count": 5,
   "id": "963119c3",
   "metadata": {},
   "outputs": [
    {
     "name": "stdout",
     "output_type": "stream",
     "text": [
      "welcome to the treasure island game.\n",
      "Your mission is to find the treasure.\n",
      "you are at a crossroad, where do you want to go ? Type \"left\" or \"right\".\n",
      "left\n",
      "you have come to the lake. There is an island in the middle of the lake. Type'wait' for a boat. Type'swim' to swim across.\n",
      "wait\n",
      "you arrive at the island unharmed. There is house with 3 doors. one red, one yellow and one blue.which color do you choose ?\n",
      " blue\n",
      "You enter a room of beasts. GAME OVER.\n"
     ]
    }
   ],
   "source": [
    "print(\"welcome to the treasure island game.\\nYour mission is to find the treasure.\")\n",
    "\n",
    "choice1 = input('you are at a crossroad, where do you want to go ? Type \"left\" or \"right\".\\n').lower()\n",
    "\n",
    "if choice1 == \"left\":\n",
    "    choice2=input(\"you have come to the lake. There is an island in the middle of the lake. Type'wait' for a boat. Type'swim' to swim across.\\n\").lower()\n",
    "    if choice2 == 'wait':\n",
    "        choice3 = input(\"you arrive at the island unharmed. There is house with 3 doors. one red, one yellow and one blue.which color do you choose ?\\n \").lower()\n",
    "        if choice3 == 'red':\n",
    "            print(\"Room full of fire. GAME OVER.\")\n",
    "        elif choice3 == 'yellow':\n",
    "            print(\"You found the treasure. YOU WIN.\")\n",
    "        elif choice3 == 'blue':\n",
    "            print(\"You enter a room of beasts. GAME OVER.\")\n",
    "        else:\n",
    "            print(\"You chose a door of Death. GAME OVER.\")\n",
    "\n",
    " \n",
    "    else:\n",
    "        print(\"You got attacked by an angry trout. GAME OVER\")\n",
    "else:\n",
    "    print(\"You fell into a hole. GAME OVER.\")\n",
    "    \n"
   ]
  },
  {
   "cell_type": "code",
   "execution_count": null,
   "id": "608a6cdb",
   "metadata": {},
   "outputs": [],
   "source": []
  }
 ],
 "metadata": {
  "kernelspec": {
   "display_name": "Python 3 (ipykernel)",
   "language": "python",
   "name": "python3"
  },
  "language_info": {
   "codemirror_mode": {
    "name": "ipython",
    "version": 3
   },
   "file_extension": ".py",
   "mimetype": "text/x-python",
   "name": "python",
   "nbconvert_exporter": "python",
   "pygments_lexer": "ipython3",
   "version": "3.9.7"
  }
 },
 "nbformat": 4,
 "nbformat_minor": 5
}
