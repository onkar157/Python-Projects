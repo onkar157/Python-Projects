{
 "cells": [
  {
   "cell_type": "code",
   "execution_count": 18,
   "id": "77d5300f",
   "metadata": {},
   "outputs": [
    {
     "name": "stdout",
     "output_type": "stream",
     "text": [
      "What do you choose ? Type 0 for Rock, 1 for Paper or 2 for Scissors.\n",
      "2\n",
      "computer choose 0.\n",
      "You Lose. \n"
     ]
    }
   ],
   "source": [
    "import random\n",
    "user_choice = int(input(\"What do you choose ? Type 0 for Rock, 1 for Paper or 2 for Scissors.\\n\"))\n",
    "computer_choice = random.randint(0,2)\n",
    "print(f\"computer choose {computer_choice}.\")\n",
    "\n",
    "if user_choice >= 3 or user_choice <0:\n",
    "    print(\"You typed invalid number, You Lose. \")\n",
    "elif user_choice == 0 and computer_choice == 2:\n",
    "    print(\"You Win. \")\n",
    "elif computer_choice == 0 and user_choice == 2:\n",
    "    print(\"You Lose. \")\n",
    "elif computer_choice > user_choice:\n",
    "    print(\"You Lose. \")\n",
    "elif user_choice > computer_choice:\n",
    "    print(\"You Win. \")\n",
    "elif computer_choice == user_choice:\n",
    "    print(\"It's Draw. \")   \n",
    "else:\n",
    "    print(\"You type a invalid number, you lose !\")"
   ]
  },
  {
   "cell_type": "code",
   "execution_count": null,
   "id": "b2fcd29a",
   "metadata": {},
   "outputs": [],
   "source": []
  }
 ],
 "metadata": {
  "kernelspec": {
   "display_name": "Python 3 (ipykernel)",
   "language": "python",
   "name": "python3"
  },
  "language_info": {
   "codemirror_mode": {
    "name": "ipython",
    "version": 3
   },
   "file_extension": ".py",
   "mimetype": "text/x-python",
   "name": "python",
   "nbconvert_exporter": "python",
   "pygments_lexer": "ipython3",
   "version": "3.9.7"
  }
 },
 "nbformat": 4,
 "nbformat_minor": 5
}
