{
 "cells": [
  {
   "cell_type": "markdown",
   "id": "b9ae8940",
   "metadata": {},
   "source": [
    "### Paint Area Calculator"
   ]
  },
  {
   "cell_type": "code",
   "execution_count": 6,
   "id": "1cb7bc3c",
   "metadata": {},
   "outputs": [
    {
     "name": "stdout",
     "output_type": "stream",
     "text": [
      "Height of wall: 12\n",
      "Width of wall: 5\n",
      "you'll need 12 cans of paint .\n"
     ]
    }
   ],
   "source": [
    "import math \n",
    "\n",
    "def paint_calc(height, width, cover):\n",
    "    area = height * width\n",
    "    num_of_cans = math.ceil(area/cover)\n",
    "    print(f\"you'll need {num_of_cans} cans of paint .\")  \n",
    "\n",
    "\n",
    "test_h = int(input(\"Height of wall: \"))\n",
    "test_w = int(input(\"Width of wall: \"))\n",
    "coverage = 5\n",
    "paint_calc(height=test_h, width=test_w, cover=coverage)"
   ]
  },
  {
   "cell_type": "code",
   "execution_count": null,
   "id": "dcc60fc2",
   "metadata": {},
   "outputs": [],
   "source": []
  }
 ],
 "metadata": {
  "kernelspec": {
   "display_name": "Python 3 (ipykernel)",
   "language": "python",
   "name": "python3"
  },
  "language_info": {
   "codemirror_mode": {
    "name": "ipython",
    "version": 3
   },
   "file_extension": ".py",
   "mimetype": "text/x-python",
   "name": "python",
   "nbconvert_exporter": "python",
   "pygments_lexer": "ipython3",
   "version": "3.9.7"
  }
 },
 "nbformat": 4,
 "nbformat_minor": 5
}
